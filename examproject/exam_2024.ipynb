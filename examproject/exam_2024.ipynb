{
 "cells": [
  {
   "cell_type": "markdown",
   "metadata": {},
   "source": [
    "**Table of contents**<a id='toc0_'></a>    \n",
    "- 1. [Problem 1: Production economy and CO2 taxation](#toc1_)    \n",
    "- 2. [Problem 2: Career choice model](#toc2_)    \n",
    "- 3. [Problem 3: Barycentric interpolation](#toc3_)    \n",
    "\n",
    "<!-- vscode-jupyter-toc-config\n",
    "\tnumbering=true\n",
    "\tanchor=true\n",
    "\tflat=false\n",
    "\tminLevel=2\n",
    "\tmaxLevel=6\n",
    "\t/vscode-jupyter-toc-config -->\n",
    "<!-- THIS CELL WILL BE REPLACED ON TOC UPDATE. DO NOT WRITE YOUR TEXT IN THIS CELL -->"
   ]
  },
  {
   "cell_type": "code",
   "execution_count": 980,
   "metadata": {},
   "outputs": [],
   "source": [
    "# Write your code here\n",
    "import numpy as np\n",
    "from types import SimpleNamespace\n",
    "from scipy.optimize import minimize_scalar, fsolve"
   ]
  },
  {
   "cell_type": "markdown",
   "metadata": {},
   "source": [
    "## 1. <a id='toc1_'></a>[Problem 1: Production economy and CO2 taxation](#toc0_)"
   ]
  },
  {
   "cell_type": "markdown",
   "metadata": {},
   "source": [
    "Consider a production economy with two firms indexed by $j \\in \\{1,2\\}$. Each produce its own good. They solve\n",
    "\n",
    "$$\n",
    "\\begin{align*}\n",
    "\\max_{y_{j}}\\pi_{j}&=p_{j}y_{j}-w_{j}\\ell_{j}\\\\\\text{s.t.}\\;&y_{j}=A\\ell_{j}^{\\gamma}.\n",
    "\\end{align*}\n",
    "$$\n",
    "\n",
    "Optimal firm behavior is\n",
    "\n",
    "$$\n",
    "\\begin{align*}\n",
    "\\ell_{j}^{\\star}(w,p_{j})&=\\left(\\frac{p_{j}A\\gamma}{w}\\right)^{\\frac{1}{1-\\gamma}} \\\\\n",
    "y_{j}^{\\star}(w,p_{j})&=A\\left(\\ell_{j}^{\\star}(w,p_{j})\\right)^{\\gamma}\n",
    "\\end{align*}\n",
    "$$\n",
    "\n",
    "The implied profits are\n",
    "\n",
    "$$\n",
    "\\pi_{j}^*(w,p_{j})=\\frac{1-\\gamma}{\\gamma}w\\cdot\\left(\\frac{p_{j}A\\gamma}{w}\\right)^{\\frac{1}{1-\\gamma}}\n",
    "$$\n",
    "\n",
    "A single consumer supplies labor, and consumes the goods the firms produce. She also recieves the implied profits of the firm.<br>\n",
    "She solves:\n",
    "\n",
    "$$\n",
    "\\begin{align*}\n",
    "U(p_1,p_2,w,\\tau,T) = \\max_{c_{1},c_{2},\\ell} & \\log(c_{1}^{\\alpha}c_{2}^{1-\\alpha})-\\nu\\frac{\\ell^{1+\\epsilon}}{1+\\epsilon} \\\\\n",
    "\\text{s.t.}\\,\\,\\,&p_{1}c_{1}+(p_{2}+\\tau)c_{2}=w\\ell+T+\\pi_{1}^*(w,p_{1})+\\pi_{2}^*(w,p_{2})\n",
    "\\end{align*}\n",
    "$$\n",
    "\n",
    "where $\\tau$ is a tax and $T$ is lump-sum transfer. <br>\n",
    "For a given $\\ell$, it can be shown that optimal behavior is\n",
    "\n",
    "$$\n",
    "\\begin{align*}\n",
    "c_{1}(\\ell)&=\\alpha\\frac{w\\ell+T+\\pi_{1}^*(w,p_{1})+\\pi_{2}^*(w,p_{2})}{p_{1}} \\\\\n",
    "c_{2}(\\ell)&=(1-\\alpha)\\frac{w\\ell+T+\\pi_{1}^*(w,p_{1})+\\pi_{2}^*(w,p_{2})}{p_{2}+\\tau} \\\\\n",
    "\\end{align*}\n",
    "$$\n",
    "Such that optimal behavior is:\n",
    "$$\n",
    "\\ell^* = \\underset{\\ell}{\\arg\\max} \\log(\\left(c_{1}(\\ell)\\right)^{\\alpha}\\cdot \\left(c_{2}(\\ell)\\right)^{1-\\alpha})-\\nu\\frac{\\ell^{1+\\epsilon}}{1+\\epsilon} \n",
    "$$\n",
    "With optimal consumption:\n",
    "$$\n",
    "\\begin{align*}\n",
    "c_1^*=c_{1}(\\ell^*) \\\\\n",
    "c_2^*=c_{2}(\\ell^*)\\\\\n",
    "\\end{align*}\n",
    "$$\n",
    "\n",
    "\n",
    "The government chooses $\\tau$ and balances its budget so $T=\\tau c_2^*$. We initially set $\\tau,T=0$.\n",
    "\n",
    "Market clearing requires:\n",
    "\n",
    "1. Labor market: $\\ell^* = \\ell_1^* + \\ell_2^*$\n",
    "1. Good market 1: $c_1^* = y_1^*$\n",
    "1. Good market 2: $c_2^* = y_2^*$\n"
   ]
  },
  {
   "cell_type": "markdown",
   "metadata": {},
   "source": [
    "**Question 1:** Check market clearing conditions for $p_1$ in `linspace(0.1,2.0,10)` and $p_2$ in `linspace(0.1,2.0,10)`. We choose $w=1$ as numeraire."
   ]
  },
  {
   "cell_type": "code",
   "execution_count": 981,
   "metadata": {},
   "outputs": [],
   "source": [
    "par = SimpleNamespace()\n",
    "\n",
    "# firms\n",
    "par.A = 1.0\n",
    "par.gamma = 0.5\n",
    "\n",
    "# households\n",
    "par.alpha = 0.3\n",
    "par.nu = 1.0\n",
    "par.epsilon = 2.0\n",
    "\n",
    "# government\n",
    "par.tau = 0.0\n",
    "par.T = 0.0\n",
    "\n",
    "# Question 3\n",
    "par.kappa = 0.1"
   ]
  },
  {
   "cell_type": "code",
   "execution_count": 982,
   "metadata": {},
   "outputs": [
    {
     "name": "stdout",
     "output_type": "stream",
     "text": [
      "Summary of market clearing conditions for selected p1 and p2 values:\n",
      "p1: 0.10, p2: 0.10, l*: 0.9934, y1*: 0.9967, y2*: 0.9967\n",
      "p1: 0.31, p2: 0.10, l*: 0.9656, y1*: 0.9827, y2*: 0.9827\n",
      "p1: 0.52, p2: 0.10, l*: 0.9141, y1*: 0.9561, y2*: 0.9561\n",
      "p1: 0.73, p2: 0.10, l*: 0.8468, y1*: 0.9202, y2*: 0.9202\n",
      "p1: 0.94, p2: 0.10, l*: 0.7727, y1*: 0.8791, y2*: 0.8791\n",
      "p1: 1.16, p2: 0.10, l*: 0.6993, y1*: 0.8363, y2*: 0.8363\n",
      "p1: 1.37, p2: 0.10, l*: 0.6313, y1*: 0.7945, y2*: 0.7945\n",
      "p1: 1.58, p2: 0.10, l*: 0.5707, y1*: 0.7555, y2*: 0.7555\n",
      "p1: 1.79, p2: 0.10, l*: 0.5179, y1*: 0.7197, y2*: 0.7197\n",
      "p1: 2.00, p2: 0.10, l*: 0.4723, y1*: 0.6873, y2*: 0.6873\n"
     ]
    }
   ],
   "source": [
    "# Answers \n",
    "import numpy as np\n",
    "from types import SimpleNamespace\n",
    "from scipy.optimize import minimize_scalar\n",
    "\n",
    "# Parameters\n",
    "par = SimpleNamespace()\n",
    "par.A = 1.0\n",
    "par.gamma = 0.5\n",
    "par.alpha = 0.3\n",
    "par.nu = 1.0\n",
    "par.epsilon = 2.0\n",
    "par.tau = 0.0\n",
    "par.T = 0.0\n",
    "par.kappa = 0.1  # Social cost of carbon\n",
    "\n",
    "# Utility function\n",
    "def utility(c1, c2, l, alpha, nu, epsilon):\n",
    "    return np.log(c1**alpha * c2**(1 - alpha)) - nu * l**(1 + epsilon) / (1 + epsilon)\n",
    "\n",
    "# Budget constraint function\n",
    "def budget_constraint(l, w, p1, p2, tau, T, pi1, pi2, alpha):\n",
    "    income = w * l + T + pi1 + pi2\n",
    "    c1 = alpha * income / p1\n",
    "    c2 = (1 - alpha) * income / (p2 + tau)\n",
    "    return c1, c2\n",
    "\n",
    "# Labor supply function\n",
    "def labor_supply(w, p1, p2, tau, T, A, gamma, alpha, nu, epsilon):\n",
    "    pi1 = (p1 * A**gamma / w)**(1 / (1 - gamma))\n",
    "    pi2 = (p2 * A**gamma / w)**(1 / (1 - gamma))\n",
    "    \n",
    "    def objective(l):\n",
    "        c1, c2 = budget_constraint(l, w, p1, p2, tau, T, pi1, pi2, alpha)\n",
    "        return -utility(c1, c2, l, alpha, nu, epsilon)\n",
    "    \n",
    "    result = minimize_scalar(objective, bounds=(1e-5, 100), method='bounded')\n",
    "    return result.x\n",
    "\n",
    "# Market clearing conditions function\n",
    "def market_clearing_conditions(p1, p2, par):\n",
    "    w = 1  # Explicitly setting w = 1 as the numeraire\n",
    "    l_star = labor_supply(w, p1, p2, par.tau, par.T, par.A, par.gamma, par.alpha, par.nu, par.epsilon)\n",
    "    y1_star = par.A * l_star**par.gamma\n",
    "    y2_star = par.A * l_star**par.gamma\n",
    "    return l_star, y1_star, y2_star\n",
    "\n",
    "# Check market clearing conditions with w = 1 (numeraire)\n",
    "p1_values = np.linspace(0.1, 2.0, 10)\n",
    "p2_values = np.linspace(0.1, 2.0, 10)\n",
    "results = []\n",
    "\n",
    "for p1 in p1_values:\n",
    "    for p2 in p2_values:\n",
    "        l_star, y1_star, y2_star = market_clearing_conditions(p1, p2, par)  # w = 1 is set inside the function\n",
    "        results.append((p1, p2, l_star, y1_star, y2_star))\n",
    "\n",
    "# Print a summary of the results\n",
    "print(\"Summary of market clearing conditions for selected p1 and p2 values:\")\n",
    "for i, (p1, p2, l_star, y1_star, y2_star) in enumerate(results):\n",
    "    if i % 10 == 0:  # Print every 10th result to reduce output\n",
    "        print(f\"p1: {p1:.2f}, p2: {p2:.2f}, l*: {l_star:.4f}, y1*: {y1_star:.4f}, y2*: {y2_star:.4f}\")"
   ]
  },
  {
   "cell_type": "markdown",
   "metadata": {},
   "source": [
    "**Question 2:** Find the equilibrium prices $p_1$ and $p_2$.<br>\n",
    "*Hint: you can use Walras' law to only check 2 of the market clearings*"
   ]
  },
  {
   "cell_type": "code",
   "execution_count": 983,
   "metadata": {},
   "outputs": [
    {
     "name": "stdout",
     "output_type": "stream",
     "text": [
      "\n",
      "Equilibrium prices: p1: 0.8044596129475206, p2: 1.8770724302103687\n"
     ]
    }
   ],
   "source": [
    "# write your answer here\n",
    "from scipy.optimize import fsolve\n",
    "\n",
    "# Function to find equilibrium prices\n",
    "def equilibrium_prices():\n",
    "    def equations(p):\n",
    "        p1, p2 = p\n",
    "        l_star, y1_star, y2_star = market_clearing_conditions(p1, p2, par)  # w = 1 as numeraire\n",
    "        c1, c2 = budget_constraint(l_star, 1, p1, p2, par.tau, par.T, y1_star, y2_star, par.alpha)\n",
    "        # Market clearing conditions\n",
    "        # Check only two markets as per Walras' law\n",
    "        condition1 = y1_star - c1\n",
    "        condition2 = y2_star - c2\n",
    "        return [condition1, condition2]\n",
    "    \n",
    "    p1_p2_initial_guess = [1, 1]\n",
    "    p1_p2_equilibrium = fsolve(equations, p1_p2_initial_guess)\n",
    "    return p1_p2_equilibrium\n",
    "\n",
    "# Find equilibrium prices\n",
    "p1_eq, p2_eq = equilibrium_prices()\n",
    "print(f\"\\nEquilibrium prices: p1: {p1_eq}, p2: {p2_eq}\")"
   ]
  },
  {
   "cell_type": "markdown",
   "metadata": {},
   "source": [
    "Testing with multiple initial guesses to see if the equilibrium prices change:"
   ]
  },
  {
   "cell_type": "code",
   "execution_count": 984,
   "metadata": {},
   "outputs": [
    {
     "name": "stdout",
     "output_type": "stream",
     "text": [
      "Initial guess: [1, 1] -> Equilibrium prices: p1: 0.8044596129475206, p2: 1.8770724302103687\n",
      "Initial guess: [0.5, 0.5] -> Equilibrium prices: p1: 0.8044596129512056, p2: 1.8770724302092578\n",
      "Initial guess: [1.5, 1.5] -> Equilibrium prices: p1: 0.8044596129470134, p2: 1.8770724302095292\n",
      "Initial guess: [0.1, 0.1] -> Equilibrium prices: p1: 0.8044596129390637, p2: 1.8770724302121524\n"
     ]
    }
   ],
   "source": [
    "# Function to find equilibrium prices with different initial guesses\n",
    "def equilibrium_prices2(initial_guess):\n",
    "    def equations(p):\n",
    "        p1, p2 = p\n",
    "        l_star, y1_star, y2_star = market_clearing_conditions(p1, p2, par)  # w = 1 as numeraire\n",
    "        c1, c2 = budget_constraint(l_star, 1, p1, p2, par.tau, par.T, y1_star, y2_star, par.alpha)\n",
    "        # Market clearing conditions\n",
    "        condition1 = y1_star - c1\n",
    "        condition2 = y2_star - c2\n",
    "        return [condition1, condition2]\n",
    "    \n",
    "    p1_p2_equilibrium = fsolve(equations, initial_guess)\n",
    "    return p1_p2_equilibrium\n",
    "\n",
    "# Test different initial guesses\n",
    "initial_guesses = [\n",
    "    [1, 1],\n",
    "    [0.5, 0.5],\n",
    "    [1.5, 1.5],\n",
    "    [0.1, 0.1]\n",
    "]\n",
    "\n",
    "for guess in initial_guesses:\n",
    "    p1_eq, p2_eq = equilibrium_prices2(guess)\n",
    "    print(f\"Initial guess: {guess} -> Equilibrium prices: p1: {p1_eq}, p2: {p2_eq}\")"
   ]
  },
  {
   "cell_type": "markdown",
   "metadata": {},
   "source": [
    "The equilibrium prices are P1=0.8 and P2=1.88"
   ]
  },
  {
   "cell_type": "markdown",
   "metadata": {},
   "source": [
    "Assume the government care about the social welfare function:\n",
    "\n",
    "$$\n",
    "SWF = U - \\kappa y_2^*\n",
    "$$"
   ]
  },
  {
   "cell_type": "markdown",
   "metadata": {},
   "source": [
    "Here $\\kappa$ measures the social cost of carbon emitted by the production of $y_2$ in equilibrium."
   ]
  },
  {
   "cell_type": "markdown",
   "metadata": {},
   "source": [
    "**Question 3:** What values of $\\tau$ and (implied) $T$ should the government choose to maximize $SWF$?"
   ]
  },
  {
   "cell_type": "code",
   "execution_count": 985,
   "metadata": {},
   "outputs": [
    {
     "name": "stdout",
     "output_type": "stream",
     "text": [
      "Optimal tau: 1.9905731000571816, Optimal T: 0.10103959306334999\n"
     ]
    }
   ],
   "source": [
    "# Social welfare function\n",
    "def social_welfare_function(params):\n",
    "    tau, T = params\n",
    "    par.tau = tau\n",
    "    par.T = T\n",
    "    p1_eq, p2_eq = equilibrium_prices()  # Find equilibrium prices with the current tau and T\n",
    "    l_star, y1_star, y2_star = market_clearing_conditions(p1_eq, p2_eq, par)\n",
    "    c1, c2 = budget_constraint(l_star, 1, p1_eq, p2_eq, tau, T, y1_star, y2_star, par.alpha)\n",
    "    U = utility(c1, c2, l_star, par.alpha, par.nu, par.epsilon)\n",
    "    SWF = U - par.kappa * y2_star  # Social welfare function\n",
    "    return -SWF  # We minimize the negative social welfare to maximize it\n",
    "\n",
    "# Optimize for tau and T\n",
    "result = minimize(social_welfare_function, [0, 0], bounds=[(0, 2), (0, 2)])\n",
    "optimal_tau, optimal_T = result.x\n",
    "print(f\"Optimal tau: {optimal_tau}, Optimal T: {optimal_T}\")\n"
   ]
  },
  {
   "cell_type": "markdown",
   "metadata": {},
   "source": [
    "For the goverment to maximize SWF they should choose $\\tau$=1.99 and T=0.1"
   ]
  },
  {
   "cell_type": "markdown",
   "metadata": {},
   "source": [
    "## 2. <a id='toc2_'></a>[Problem 2: Career choice model](#toc0_)"
   ]
  },
  {
   "cell_type": "markdown",
   "metadata": {},
   "source": [
    "Consider a graduate $i$ making a choice between entering $J$ different career tracks. <br>\n",
    "Entering career $j$ yields utility $u^k_{ij}$. This value is unknown to the graduate ex ante, but will ex post be: <br>\n",
    "$$\n",
    "    u_{i,j}^k = v_{j} + \\epsilon_{i,j}^k\n",
    "$$\n",
    "\n",
    "They know that $\\epsilon^k_{i,j}\\sim \\mathcal{N}(0,\\sigma^2)$, but they do not observe $\\epsilon^k_{i,j}$ before making their career choice. <br>"
   ]
  },
  {
   "cell_type": "markdown",
   "metadata": {},
   "source": [
    "Consider the concrete case of $J=3$ with:\n",
    "$$\n",
    "\\begin{align*}\n",
    "    v_{1} &= 1 \\\\\n",
    "    v_{2} &= 2 \\\\\n",
    "    v_{3} &= 3\n",
    "\\end{align*}\n",
    "$$"
   ]
  },
  {
   "cell_type": "markdown",
   "metadata": {},
   "source": [
    "If the graduates know the values of $v_j$ and the distribution of $\\epsilon_{i,j}^k$, they can calculate the expected utility of each career track using simulation: <br>\n",
    "$$\n",
    "    \\mathbb{E}\\left[ u^k_{i,j}\\vert v_j \\right] \\approx v_j + \\frac{1}{K}\\sum_{k=1}^K \\epsilon_{i,j}^k\n",
    "$$"
   ]
  },
  {
   "cell_type": "code",
   "execution_count": 986,
   "metadata": {},
   "outputs": [],
   "source": [
    "par = SimpleNamespace()\n",
    "par.J = 3\n",
    "par.N = 10\n",
    "par.K = 10000\n",
    "\n",
    "par.F = np.arange(1,par.N+1)\n",
    "par.sigma = 2\n",
    "\n",
    "par.v = np.array([1,2,3])\n",
    "par.c = 1"
   ]
  },
  {
   "cell_type": "markdown",
   "metadata": {},
   "source": [
    "**Question 1:** Simulate and calculate expected utility and the average realised utility for $K=10000$ draws, for each career choice $j$.\n"
   ]
  },
  {
   "cell_type": "code",
   "execution_count": 987,
   "metadata": {},
   "outputs": [],
   "source": [
    "# write your answer here"
   ]
  },
  {
   "cell_type": "markdown",
   "metadata": {},
   "source": [
    "Now consider a new scenario: Imagine that the graduate does not know $v_j$. The *only* prior information they have on the value of each job, comes from their $F_{i}$ friends that work in each career $j$. After talking with them, they know the average utility of their friends (which includes their friends' noise term), giving them the prior expecation: <br>\n",
    "$$\n",
    "\\tilde{u}^k_{i,j}\\left( F_{i}\\right) = \\frac{1}{F_{i}}\\sum_{f=1}^{F_{i}} \\left(v_{j} + \\epsilon^k_{f,j}\\right), \\; \\epsilon^k_{f,j}\\sim \\mathcal{N}(0,\\sigma^2)\n",
    "$$\n",
    "For ease of notation consider that each graduate have $F_{i}=i$ friends in each career. <br>"
   ]
  },
  {
   "cell_type": "markdown",
   "metadata": {},
   "source": [
    "For $K$ times do the following: <br>\n",
    "1. For each person $i$ draw $J\\cdot F_i$ values of $\\epsilon_{f,j}^{k}$, and calculate the prior expected utility of each career track, $\\tilde{u}^k_{i,j}\\left( F_{i}\\right)$. <br>\n",
    "Also draw their own $J$ noise terms, $\\epsilon_{i,j}^k$\n",
    "1. Each person $i$ chooses the career track with the highest expected utility: $$j_i^{k*}= \\arg\\max_{j\\in{1,2\\dots,J}}\\left\\{ \\tilde{u}^k_{i,j}\\left( F_{i}\\right)\\right\\} $$\n",
    "1. Store the chosen careers: $j_i^{k*}$, the prior expectation of the value of their chosen career: $\\tilde{u}^k_{i,j=j_i^{k*}}\\left( F_{i}\\right)$, and the realized value of their chosen career track: $u^k_{i,j=j_i^{k*}}=v_{j=j_i^{k*}}+\\epsilon_{i,j=j_i^{k*}}^k$."
   ]
  },
  {
   "cell_type": "markdown",
   "metadata": {},
   "source": [
    "Chosen values will be: <br>\n",
    "$i\\in\\left\\{1,2\\dots,N\\right\\}, N=10$ <br>\n",
    "$F_i = i$<br>\n",
    "So there are 10 graduates. The first has 1 friend in each career, the second has 2 friends, ... the tenth has 10 friends."
   ]
  },
  {
   "cell_type": "markdown",
   "metadata": {},
   "source": [
    "**Question 2:** Simulate and visualize: For each type of graduate, $i$, the share of graduates choosing each career, the average subjective expected utility of the graduates, and the average ex post realized utility given their choice. <br>\n",
    "That is, calculate and visualize: <br>\n",
    "$$\n",
    "\\begin{align*}\n",
    "    \\frac{1}{K} \\sum_{k=1}^{K} \\mathbb{I}\\left\\{ j=j_i^{k*} \\right\\}  \\;\\forall j\\in\\left\\{1,2,\\dots,J\\right\\}\n",
    "\\end{align*}\n",
    "$$\n",
    "$$\n",
    "\\begin{align*}\n",
    "    \\frac{1}{K} \\sum_{k=1}^{K} \\tilde{u}^k_{ij=j_i^{k*}}\\left( F_{i}\\right)\n",
    "\\end{align*}\n",
    "$$\n",
    "And \n",
    "$$\n",
    "\\begin{align*}\n",
    "    \\frac{1}{K} \\sum_{k=1}^{K} u^k_{ij=j_i^{k*}} \n",
    "\\end{align*}\n",
    "$$\n",
    "For each graduate $i$."
   ]
  },
  {
   "cell_type": "code",
   "execution_count": 988,
   "metadata": {},
   "outputs": [],
   "source": [
    "# Write your answer here "
   ]
  },
  {
   "cell_type": "markdown",
   "metadata": {},
   "source": [
    "After a year of working in their career, the graduates learn $u^k_{ij}$ for their chosen job $j_i^{k*}$ perfectly. <br>\n",
    "The can switch to one of the two remaining careers, for which they have the same prior as before, but it will now include a switching cost of $c$ which is known.\n",
    "Their new priors can be written as: \n",
    "$$\n",
    "\\tilde{u}^{k,2}_{ij}\\left( F_{i}\\right) = \\begin{cases}\n",
    "            \\tilde{u}^k_{ij}\\left( F_{i}\\right)-c & \\text{if } j \\neq j_i^{k*} \\\\\n",
    "            u_{ij=j_i^{k*}} & \\text{if } j = j_i^{k*}\n",
    "        \\end{cases}\n",
    "$$"
   ]
  },
  {
   "cell_type": "markdown",
   "metadata": {},
   "source": [
    "We will set $c=1$."
   ]
  },
  {
   "cell_type": "markdown",
   "metadata": {},
   "source": [
    "Their realized utility will be: <br>\n",
    "$$\n",
    "u^{k,2}_{ij}= \\begin{cases}\n",
    "            u_{ij}^k -c & \\text{if } j \\neq j_i^{k*} \\\\\n",
    "            u_{ij=j_i^{k*}} & \\text{if } j = j_i^{k*}\n",
    "        \\end{cases}\n",
    "$$"
   ]
  },
  {
   "cell_type": "markdown",
   "metadata": {},
   "source": [
    "**Question 3:** Following the same approach as in question 2, find the new optimal career choice for each $i$, $k$. Then for each $i$, calculate the average subjective expected utility from their new optimal career choice, and the ex post realized utility of that career. Also, for each $i$, calculate the share of graduates that chooses to switch careers, conditional on which career they chose in the first year. <br>"
   ]
  },
  {
   "cell_type": "code",
   "execution_count": 989,
   "metadata": {},
   "outputs": [],
   "source": [
    "# write your answer here"
   ]
  },
  {
   "cell_type": "markdown",
   "metadata": {},
   "source": [
    "## 3. <a id='toc3_'></a>[Problem 3: Barycentric interpolation](#toc0_)"
   ]
  },
  {
   "cell_type": "markdown",
   "metadata": {},
   "source": [
    "**Problem:** We have a set of random points in the unit square,\n",
    "\n",
    "$$\n",
    "\\mathcal{X} = \\{(x_1,x_2)\\,|\\,x_1\\sim\\mathcal{U}(0,1),x_2\\sim\\mathcal{U}(0,1)\\}.\n",
    "$$\n",
    "\n",
    "For these points, we know the value of some function $f(x_1,x_2)$,\n",
    "\n",
    "$$\n",
    "\\mathcal{F} = \\{f(x_1,x_2) \\,|\\, (x_1,x_2) \\in \\mathcal{X}\\}.\n",
    "$$\n",
    "\n",
    "Now we want to approximate the value $f(y_1,y_2)$ for some  $y=(y_1,y_2)$, where $y_1\\sim\\mathcal{U}(0,1)$ and $y_2\\sim\\mathcal{U}(0,1)$.\n",
    "\n",
    "**Building block I**\n",
    "\n",
    "For an arbitrary triangle $ABC$ and a point $y$, define the so-called barycentric coordinates as:\n",
    "\n",
    "$$\n",
    "\\begin{align*}\n",
    "  r^{ABC}_1 &= \\frac{(B_2-C_2)(y_1-C_1) + (C_1-B_1)(y_2-C_2)}{(B_2-C_2)(A_1-C_1) + (C_1-B_1)(A_2-C_2)} \\\\\n",
    "  r^{ABC}_2 &= \\frac{(C_2-A_2)(y_1-C_1) + (A_1-C_1)(y_2-C_2)}{(B_2-C_2)(A_1-C_1) + (C_1-B_1)(A_2-C_2)} \\\\\n",
    "  r^{ABC}_3 &= 1 - r_1 - r_2.\n",
    "\\end{align*}\n",
    "$$\n",
    "\n",
    "If $r^{ABC}_1 \\in [0,1]$, $r^{ABC}_2 \\in [0,1]$, and $r^{ABC}_3 \\in [0,1]$, then the point is inside the triangle.\n",
    "\n",
    "We always have $y = r^{ABC}_1 A + r^{ABC}_2 B + r^{ABC}_3 C$.\n",
    "\n",
    "**Building block II**\n",
    "\n",
    "Define the following points:\n",
    "\n",
    "$$\n",
    "\\begin{align*}\n",
    "A&=\\arg\\min_{(x_{1},x_{2})\\in\\mathcal{X}}\\sqrt{\\left(x_{1}-y_{1}\\right)^{2}+\\left(x_{2}-y_{2}\\right)^{2}}\\text{ s.t. }x_{1}>y_{1}\\text{ and }x_{2}>y_{2}\\\\\n",
    "B&=\\arg\\min_{(x_{1},x_{2})\\in\\mathcal{X}}\\sqrt{\\left(x_{1}-y_{1}\\right)^{2}+\\left(x_{2}-y_{2}\\right)^{2}}\\text{ s.t. }x_{1}>y_{1}\\text{ and }x_{2}<y_{2}\\\\\n",
    "C&=\\arg\\min_{(x_{1},x_{2})\\in\\mathcal{X}}\\sqrt{\\left(x_{1}-y_{1}\\right)^{2}+\\left(x_{2}-y_{2}\\right)^{2}}\\text{ s.t. }x_{1}<y_{1}\\text{ and }x_{2}<y_{2}\\\\\n",
    "D&=\\arg\\min_{(x_{1},x_{2})\\in\\mathcal{X}}\\sqrt{\\left(x_{1}-y_{1}\\right)^{2}+\\left(x_{2}-y_{2}\\right)^{2}}\\text{ s.t. }x_{1}<y_{1}\\text{ and }x_{2}>y_{2}.\n",
    "\\end{align*}\n",
    "$$\n",
    "\n",
    "**Algorithm:**\n",
    "\n",
    "1. Compute $A$, $B$, $C$, and $D$. If not possible return `NaN`.\n",
    "1. If $y$ is inside the triangle $ABC$ return $r^{ABC}_1 f(A) + r^{ABC}_2 f(B) + r^{ABC}_3 f(C)$.\n",
    "1. If $y$ is inside the triangle $CDA$ return $r^{CDA}_1 f(C) + r^{CDA}_2 f(D) + r^{CDA}_3 f(A)$.\n",
    "1. Return `NaN`.\n",
    "\n"
   ]
  },
  {
   "cell_type": "markdown",
   "metadata": {},
   "source": [
    "**Sample:**"
   ]
  },
  {
   "cell_type": "code",
   "execution_count": 990,
   "metadata": {},
   "outputs": [],
   "source": [
    "rng = np.random.default_rng(2024)\n",
    "\n",
    "X = rng.uniform(size=(50,2))\n",
    "y = rng.uniform(size=(2,))\n"
   ]
  },
  {
   "cell_type": "markdown",
   "metadata": {},
   "source": [
    "**Questions 1:** Find $A$, $B$, $C$ and $D$. Illustrate these together with $X$, $y$ and the triangles $ABC$ and $CDA$."
   ]
  },
  {
   "cell_type": "code",
   "execution_count": 991,
   "metadata": {},
   "outputs": [
    {
     "name": "stdout",
     "output_type": "stream",
     "text": [
      "Point y: [0.20901926 0.37774759]\n",
      "Point A: [0.26071605 0.43635845]\n",
      "Point B: [0.21315735 0.274245  ]\n",
      "Point C: [0.10056103 0.27951775]\n",
      "Point D: [0.20634391 0.44272557]\n"
     ]
    },
    {
     "data": {
      "image/png": "[encoded data removed]",
      "text/plain": [
       "<Figure size 640x480 with 1 Axes>"
      ]
     },
     "metadata": {},
     "output_type": "display_data"
    }
   ],
   "source": [
    "# write your answer here\n",
    "from matplotlib import pyplot as plt\n",
    "\n",
    "\n",
    "def euclidean_distance(p1, p2):\n",
    "    return np.sqrt((p1[0] - p2[0])**2 + (p1[1] - p2[1])**2)\n",
    "\n",
    "\n",
    "# Find points A, B, C, D based on the criteria provided\n",
    "A_candidates = [p for p in X if p[0] > y[0] and p[1] > y[1]]\n",
    "B_candidates = [p for p in X if p[0] > y[0] and p[1] < y[1]]\n",
    "C_candidates = [p for p in X if p[0] < y[0] and p[1] < y[1]]\n",
    "D_candidates = [p for p in X if p[0] < y[0] and p[1] > y[1]]\n",
    "\n",
    "A = min(A_candidates, key=lambda p: euclidean_distance(p, y))\n",
    "B = min(B_candidates, key=lambda p: euclidean_distance(p, y))\n",
    "C = min(C_candidates, key=lambda p: euclidean_distance(p, y))\n",
    "D = min(D_candidates, key=lambda p: euclidean_distance(p, y))\n",
    "\n",
    "# Print the points\n",
    "print(f\"Point y: {y}\")\n",
    "print(f\"Point A: {A}\")\n",
    "print(f\"Point B: {B}\")\n",
    "print(f\"Point C: {C}\")\n",
    "print(f\"Point D: {D}\")\n",
    "\n",
    "# Plot points and triangles\n",
    "plt.scatter(X[:, 0], X[:, 1], label='Random Points')\n",
    "plt.scatter(*y, color='red', label='Point y')\n",
    "plt.scatter(*A, color='green', label='Point A')\n",
    "plt.scatter(*B, color='blue', label='Point B')\n",
    "plt.scatter(*C, color='purple', label='Point C')\n",
    "plt.scatter(*D, color='orange', label='Point D')\n",
    "\n",
    "# Plot triangles ABC and CDA\n",
    "triangle_ABC = np.array([A, B, C, A])\n",
    "triangle_CDA = np.array([C, D, A, C])\n",
    "\n",
    "plt.plot(triangle_ABC[:, 0], triangle_ABC[:, 1], 'g--', label='Triangle ABC')\n",
    "plt.plot(triangle_CDA[:, 0], triangle_CDA[:, 1], 'r--', label='Triangle CDA')\n",
    "\n",
    "plt.xlabel('x1')\n",
    "plt.ylabel('x2')\n",
    "plt.legend()\n",
    "plt.title('Points and Triangles ABC and CDA')\n",
    "plt.show()"
   ]
  },
  {
   "cell_type": "markdown",
   "metadata": {},
   "source": [
    "**Question 2:** Compute the barycentric coordinates of the point $y$ with respect to the triangles $ABC$ and $CDA$. Which triangle is $y$ located inside?"
   ]
  },
  {
   "cell_type": "code",
   "execution_count": 992,
   "metadata": {},
   "outputs": [
    {
     "name": "stdout",
     "output_type": "stream",
     "text": [
      "Point y: [0.20901926 0.37774759]\n",
      "Point A: [0.26071605 0.43635845]\n",
      "Point B: [0.21315735 0.274245  ]\n",
      "Point C: [0.10056103 0.27951775]\n",
      "Point D: [0.20634391 0.44272557]\n",
      "\n",
      "Barycentric coordinates with respect to ABC: r1 = 0.6286263152916166, r2 = 0.06910145494351515, r3 = 0.3022722297648682\n",
      "Is y inside ABC? True\n",
      "\n",
      "Barycentric coordinates with respect to CDA: r1 = 0.3682598757102867, r2 = -0.13392661883334067, r3 = 0.765666743123054\n",
      "Is y inside CDA? False\n",
      "Point y is inside triangle ABC.\n"
     ]
    }
   ],
   "source": [
    "# write your answer here\n",
    "\n",
    "# Function to compute barycentric coordinates\n",
    "def barycentric_coordinates(A, B, C, P):\n",
    "    denom = (B[1] - C[1]) * (A[0] - C[0]) + (C[0] - B[0]) * (A[1] - C[1])\n",
    "    r1 = ((B[1] - C[1]) * (P[0] - C[0]) + (C[0] - B[0]) * (P[1] - C[1])) / denom\n",
    "    r2 = ((C[1] - A[1]) * (P[0] - C[0]) + (A[0] - C[0]) * (P[1] - C[1])) / denom\n",
    "    r3 = 1 - r1 - r2\n",
    "    return r1, r2, r3\n",
    "\n",
    "# Function to check if point is inside the triangle\n",
    "def is_inside_triangle(r1, r2, r3):\n",
    "    return 0 <= r1 <= 1 and 0 <= r2 <= 1 and 0 <= r3 <= 1\n",
    "\n",
    "# Compute barycentric coordinates for triangle ABC\n",
    "r1_ABC, r2_ABC, r3_ABC = barycentric_coordinates(A, B, C, y)\n",
    "inside_ABC = is_inside_triangle(r1_ABC, r2_ABC, r3_ABC)\n",
    "\n",
    "# Compute barycentric coordinates for triangle CDA\n",
    "r1_CDA, r2_CDA, r3_CDA = barycentric_coordinates(C, D, A, y)\n",
    "inside_CDA = is_inside_triangle(r1_CDA, r2_CDA, r3_CDA)\n",
    "\n",
    "# Print the results\n",
    "print(f\"Point y: {y}\")\n",
    "print(f\"Point A: {A}\")\n",
    "print(f\"Point B: {B}\")\n",
    "print(f\"Point C: {C}\")\n",
    "print(f\"Point D: {D}\")\n",
    "\n",
    "print(f\"\\nBarycentric coordinates with respect to ABC: r1 = {r1_ABC}, r2 = {r2_ABC}, r3 = {r3_ABC}\")\n",
    "print(f\"Is y inside ABC? {inside_ABC}\")\n",
    "\n",
    "print(f\"\\nBarycentric coordinates with respect to CDA: r1 = {r1_CDA}, r2 = {r2_CDA}, r3 = {r3_CDA}\")\n",
    "print(f\"Is y inside CDA? {inside_CDA}\")\n",
    "\n",
    "# Determine which triangle y is inside\n",
    "if inside_ABC:\n",
    "    print(\"Point y is inside triangle ABC.\")\n",
    "elif inside_CDA:\n",
    "    print(\"Point y is inside triangle CDA.\")\n",
    "else:\n",
    "    print(\"Point y is not inside any triangle.\")\n"
   ]
  },
  {
   "cell_type": "markdown",
   "metadata": {},
   "source": [
    "Now consider the function:\n",
    "$$\n",
    "f(x_1,x_2) = x_1 \\cdot x_2\n",
    "$$"
   ]
  },
  {
   "cell_type": "code",
   "execution_count": 993,
   "metadata": {},
   "outputs": [],
   "source": [
    "f = lambda x: x[0]*x[1]\n",
    "F = np.array([f(x) for x in X])"
   ]
  },
  {
   "cell_type": "markdown",
   "metadata": {},
   "source": [
    "**Question 3:** Compute the approximation of $f(y)$ using the full algorithm. Compare with the true value."
   ]
  },
  {
   "cell_type": "code",
   "execution_count": 994,
   "metadata": {},
   "outputs": [
    {
     "name": "stdout",
     "output_type": "stream",
     "text": [
      "\n",
      "Triangle containing y: ABC\n",
      "Interpolated value at y: 0.08405201731052576\n",
      "True value at y: 0.0789565216259594\n",
      "Difference between true value and interpolated value: 0.005095495684566367\n"
     ]
    }
   ],
   "source": [
    "# write your answer here\n",
    "\n",
    "# Compute barycentric coordinates for triangle ABC\n",
    "r1_ABC, r2_ABC, r3_ABC = barycentric_coordinates(A, B, C, y)\n",
    "inside_ABC = is_inside_triangle(r1_ABC, r2_ABC, r3_ABC)\n",
    "\n",
    "# Compute barycentric coordinates for triangle CDA\n",
    "r1_CDA, r2_CDA, r3_CDA = barycentric_coordinates(C, D, A, y)\n",
    "inside_CDA = is_inside_triangle(r1_CDA, r2_CDA, r3_CDA)\n",
    "\n",
    "# Compute the interpolated value\n",
    "if inside_ABC:\n",
    "    f_y = r1_ABC * f(A) + r2_ABC * f(B) + r3_ABC * f(C)\n",
    "    triangle = \"ABC\"\n",
    "elif inside_CDA:\n",
    "    f_y = r1_CDA * f(C) + r2_CDA * f(D) + r3_CDA * f(A)\n",
    "    triangle = \"CDA\"\n",
    "else:\n",
    "    f_y = np.nan\n",
    "    triangle = \"None\"\n",
    "\n",
    "# Compute the true value\n",
    "true_value = f(y)\n",
    "\n",
    "# Print the results\n",
    "print(f\"\\nTriangle containing y: {triangle}\")\n",
    "print(f\"Interpolated value at y: {f_y}\")\n",
    "print(f\"True value at y: {true_value}\")\n",
    "print(f\"Difference between true value and interpolated value: {abs(true_value - f_y)}\")\n"
   ]
  },
  {
   "cell_type": "markdown",
   "metadata": {},
   "source": [
    "**Question 4:** Repeat question 3 for all points in the set $Y$."
   ]
  },
  {
   "cell_type": "code",
   "execution_count": 995,
   "metadata": {},
   "outputs": [],
   "source": [
    "Y = [(0.2,0.2),(0.8,0.2),(0.8,0.8),(0.8,0.2),(0.5,0.5)]"
   ]
  },
  {
   "cell_type": "code",
   "execution_count": 996,
   "metadata": {},
   "outputs": [
    {
     "name": "stdout",
     "output_type": "stream",
     "text": [
      "Point y: [0.2 0.2]\n",
      "Triangle containing y: None\n",
      "Interpolated value at y: nan\n",
      "True value at y: 0.04000000000000001\n",
      "Difference between true value and interpolated value: nan\n",
      "\n",
      "Point y: [0.8 0.2]\n",
      "Triangle containing y: None\n",
      "Interpolated value at y: nan\n",
      "True value at y: 0.16000000000000003\n",
      "Difference between true value and interpolated value: nan\n",
      "\n",
      "Point y: [0.8 0.8]\n",
      "Triangle containing y: None\n",
      "Interpolated value at y: nan\n",
      "True value at y: 0.6400000000000001\n",
      "Difference between true value and interpolated value: nan\n",
      "\n",
      "Point y: [0.8 0.2]\n",
      "Triangle containing y: None\n",
      "Interpolated value at y: nan\n",
      "True value at y: 0.16000000000000003\n",
      "Difference between true value and interpolated value: nan\n",
      "\n",
      "Point y: [0.5 0.5]\n",
      "Triangle containing y: None\n",
      "Interpolated value at y: nan\n",
      "True value at y: 0.25\n",
      "Difference between true value and interpolated value: nan\n",
      "\n"
     ]
    },
    {
     "data": {
      "image/png": "[encoded data removed]",
      "text/plain": [
       "<Figure size 640x480 with 1 Axes>"
      ]
     },
     "metadata": {},
     "output_type": "display_data"
    }
   ],
   "source": [
    "# write your answer here\n",
    "\n",
    "# Function to process each point in Y\n",
    "from matplotlib import pyplot as plt\n",
    "\n",
    "\n",
    "def process_point(y):\n",
    "    y = np.array(y)\n",
    "    # Compute barycentric coordinates for triangle ABC\n",
    "    r1_ABC, r2_ABC, r3_ABC = barycentric_coordinates(A, B, C, y)\n",
    "    inside_ABC = is_inside_triangle(r1_ABC, r2_ABC, r3_ABC)\n",
    "\n",
    "    # Compute barycentric coordinates for triangle CDA\n",
    "    r1_CDA, r2_CDA, r3_CDA = barycentric_coordinates(C, D, A, y)\n",
    "    inside_CDA = is_inside_triangle(r1_CDA, r2_CDA, r3_CDA)\n",
    "\n",
    "    # Compute the interpolated value\n",
    "    if inside_ABC:\n",
    "        f_y = r1_ABC * f(A) + r2_ABC * f(B) + r3_ABC * f(C)\n",
    "        triangle = \"ABC\"\n",
    "    elif inside_CDA:\n",
    "        f_y = r1_CDA * f(C) + r2_CDA * f(D) + r3_CDA * f(A)\n",
    "        triangle = \"CDA\"\n",
    "    else:\n",
    "        f_y = np.nan\n",
    "        triangle = \"None\"\n",
    "\n",
    "    # Compute the true value\n",
    "    true_value = f(y)\n",
    "\n",
    "    # Print the results\n",
    "    print(f\"Point y: {y}\")\n",
    "    print(f\"Triangle containing y: {triangle}\")\n",
    "    print(f\"Interpolated value at y: {f_y}\")\n",
    "    print(f\"True value at y: {true_value}\")\n",
    "    print(f\"Difference between true value and interpolated value: {abs(true_value - f_y)}\\n\")\n",
    "\n",
    "    return y, f_y, true_value, triangle\n",
    "\n",
    "# Process all points in Y\n",
    "results = [process_point(y) for y in Y]\n",
    "\n",
    "# Plot points and triangles\n",
    "plt.scatter(X[:, 0], X[:, 1], label='Random Points')\n",
    "for result in results:\n",
    "    y, f_y, true_value, triangle = result\n",
    "    plt.scatter(*y, label=f'Point {y}, Triangle {triangle}', edgecolor='black')\n",
    "\n",
    "plt.scatter(*A, color='green', label='Point A')\n",
    "plt.scatter(*B, color='blue', label='Point B')\n",
    "plt.scatter(*C, color='purple', label='Point C')\n",
    "plt.scatter(*D, color='orange', label='Point D')\n",
    "\n",
    "# Plot triangles ABC and CDA\n",
    "triangle_ABC = np.array([A, B, C, A])\n",
    "triangle_CDA = np.array([C, D, A, C])\n",
    "\n",
    "plt.plot(triangle_ABC[:, 0], triangle_ABC[:, 1], 'g--', label='Triangle ABC')\n",
    "plt.plot(triangle_CDA[:, 0], triangle_CDA[:, 1], 'r--', label='Triangle CDA')\n",
    "\n",
    "plt.xlabel('x1')\n",
    "plt.ylabel('x2')\n",
    "plt.legend(loc='upper center', bbox_to_anchor=(0.5, -0.15), ncol=3)\n",
    "plt.title('Points and Triangles ABC and CDA')\n",
    "plt.show()\n"
   ]
  }
 ],
 "metadata": {
  "kernelspec": {
   "display_name": "base",
   "language": "python",
   "name": "python3"
  },
  "language_info": {
   "codemirror_mode": {
    "name": "ipython",
    "version": 3
   },
   "file_extension": ".py",
   "mimetype": "text/x-python",
   "name": "python",
   "nbconvert_exporter": "python",
   "pygments_lexer": "ipython3",
   "version": "3.11.8"
  }
 },
 "nbformat": 4,
 "nbformat_minor": 2
}
