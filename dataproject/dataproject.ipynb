{
 "cells": [
  {
   "cell_type": "markdown",
   "metadata": {},
   "source": [
    "# Industry Stock Prices"
   ]
  },
  {
   "cell_type": "markdown",
   "metadata": {},
   "source": [
    "> Comparing average returns on stocks across industries.\n",
    "\n",
    "In this assignment, we conduct a descriptive analysis of the returns on stocks across industries of S&P 500 companies. To conduct the analysis, we used a dataset from kaggle.com containing information on the S&P 500 companies and their industries. The dataset also contains sub-industries of the companies but we will focus on the main industries (e.g. Health Care, Information Technology, etc.). Additionally, we downloaded data for the stock prices in the year 2023 using Yahoo finance. \n",
    "\n",
    "Yfinance has to be installed to run this notebook.  "
   ]
  },
  {
   "cell_type": "markdown",
   "metadata": {},
   "source": [
    "Imports and set magics:"
   ]
  },
  {
   "cell_type": "code",
   "execution_count": null,
   "metadata": {},
   "outputs": [],
   "source": [
    "import pandas as pd\n",
    "import numpy as np\n",
    "import matplotlib.pyplot as plt\n",
    "import ipywidgets as widgets\n",
    "from ipywidgets import interact\n",
    "import seaborn as sns\n",
    "import plotly.graph_objects as go\n",
    "from datetime import datetime\n",
    "\n",
    "# Autoreload modules when code is run\n",
    "%load_ext autoreload\n",
    "%autoreload 2\n",
    "\n",
    "# Install yfinance\n",
    "#pip install yfinance\n",
    "import yfinance as yf\n",
    "\n",
    "# user written modules\n",
    "import dataproject as dp\n",
    "\n",
    "plt.rcParams.update({\"axes.grid\":True,\"grid.color\":\"black\",\"grid.alpha\":\"0.25\",\"grid.linestyle\":\"--\"})\n",
    "plt.rcParams.update({'font.size': 14})\n"
   ]
  },
  {
   "cell_type": "markdown",
   "metadata": {},
   "source": [
    "# Reading and cleaning data"
   ]
  },
  {
   "cell_type": "markdown",
   "metadata": {},
   "source": [
    "Import a CSV file that contains S&P 500 companies and their industries."
   ]
  },
  {
   "cell_type": "code",
   "execution_count": null,
   "metadata": {},
   "outputs": [],
   "source": [
    "# Read file, sort values in alphabetical order and reset index\n",
    "SP500 = (pd.read_csv('sp500-companies.csv', encoding='ISO-8859-1')\n",
    "         .sort_values(by=['Ticker'],ascending=True)\n",
    "         .reset_index(drop=True))\n",
    "\n",
    "# Drop columns we don't need\n",
    "drop_columns = ['Sub-Industry', 'Headquarters Location', 'Date added', 'Founded']\n",
    "SP500.drop(drop_columns, axis=1, inplace=True)\n",
    "\n",
    "# Remove duplicates\n",
    "SP500.index.duplicated(keep='first')\n",
    "\n",
    "# Display dataframe\n",
    "SP500.head()"
   ]
  },
  {
   "cell_type": "markdown",
   "metadata": {},
   "source": [
    "Create a list of yfinance tickers to pass as input to yfinance."
   ]
  },
  {
   "cell_type": "code",
   "execution_count": null,
   "metadata": {},
   "outputs": [],
   "source": [
    "# Create a list of yfinance tickers \n",
    "SP500_tickers = list(SP500['Ticker'])"
   ]
  },
  {
   "cell_type": "markdown",
   "metadata": {},
   "source": [
    "Download data for 2023 from Yahoo finance and extract adjusted close prices. The adjusted close price is the closing price after adjustments for all applicable splits and dividend distributions."
   ]
  },
  {
   "cell_type": "code",
   "execution_count": null,
   "metadata": {},
   "outputs": [],
   "source": [
    "# Download historical market data for the year 2023\n",
    "hist_prices = yf.download(tickers = SP500_tickers, start = '2023-01-01',\n",
    "                        end = '2023-12-31',\n",
    "                        interval = '1mo')\n",
    "\n",
    "# Get adjusted close for each stock and change dates\n",
    "hist_prices = hist_prices['Adj Close']\n",
    "\n",
    "# Change dateformat\n",
    "hist_prices.index = pd.to_datetime(hist_prices.index, format='%m-%y')\n",
    "\n",
    "# Display DataFrame\n",
    "hist_prices.head()"
   ]
  },
  {
   "cell_type": "markdown",
   "metadata": {},
   "source": [
    "Clean the data by removing empty columns."
   ]
  },
  {
   "cell_type": "code",
   "execution_count": null,
   "metadata": {},
   "outputs": [],
   "source": [
    "# Remove columns with NaN values\n",
    "hist_prices_clean = hist_prices.dropna(axis=1)"
   ]
  },
  {
   "cell_type": "markdown",
   "metadata": {},
   "source": [
    "To "
   ]
  },
  {
   "cell_type": "code",
   "execution_count": null,
   "metadata": {},
   "outputs": [],
   "source": [
    "# Calculate monthly and cumulative returns \n",
    "monthly_returns, cumulative_returns = dp.calculate_returns(hist_prices_clean)\n",
    "\n",
    "# Set the first row of the cumulative returns to 1\n",
    "cumulative_returns.iloc[0] = 1\n",
    "\n",
    "# Display DataFrame\n",
    "cumulative_returns.head()\n"
   ]
  },
  {
   "cell_type": "markdown",
   "metadata": {},
   "source": [
    "Create a dictionary of the companies sorted according to their industries."
   ]
  },
  {
   "cell_type": "code",
   "execution_count": null,
   "metadata": {},
   "outputs": [],
   "source": [
    "# Group companies by sector\n",
    "grouped_companies = {}\n",
    "for index, row in SP500.iterrows():\n",
    "    if row['Industry'] in grouped_companies:\n",
    "        grouped_companies[row['Industry']].append(row['Ticker'])\n",
    "    else:\n",
    "        grouped_companies[row['Industry']] = [row['Ticker']]\n",
    "\n",
    "print(grouped_companies)    "
   ]
  },
  {
   "cell_type": "markdown",
   "metadata": {},
   "source": [
    "## Exploring the dataset"
   ]
  },
  {
   "cell_type": "markdown",
   "metadata": {},
   "source": [
    "To explore the data, we first visualise the cumulative returns of each stock."
   ]
  },
  {
   "cell_type": "markdown",
   "metadata": {},
   "source": [
    "**Interactive plot** :"
   ]
  },
  {
   "cell_type": "code",
   "execution_count": null,
   "metadata": {},
   "outputs": [],
   "source": [
    "industries = grouped_companies.keys()\n",
    "dropdown = widgets.Dropdown(options = industries, description='Industry:')\n",
    "\n",
    "def plot_cumulative_returns(cumulative_returns):\n",
    "    fig = go.Figure()\n",
    "    for column in cumulative_returns.columns:\n",
    "        fig.add_trace(go.Scatter(x=cumulative_returns.index, y=cumulative_returns[column], mode='lines', name=column))\n",
    "\n",
    "    fig.update_layout(title='Cumulative Returns of S&P 500 Companies',\n",
    "                      xaxis_title='Date',\n",
    "                      yaxis_title='Cumulative Returns',\n",
    "                      hovermode='x unified')\n",
    "    fig.show()\n",
    "\n",
    "widgets.interact(plot_cumulative_returns, cumulative_returns = widgets.fixed(cumulative_returns), stock = SP500_tickers,\n",
    "                # Set reference\n",
    "                ref = widgets.fixed('^OMXC25'),\n",
    "                # Set figure no.\n",
    "                fig = widgets.fixed(1),\n",
    "                # ax_data are only for non-interactive plots\n",
    "                ax_data=widgets.fixed(None))"
   ]
  },
  {
   "cell_type": "markdown",
   "metadata": {},
   "source": [
    "Next, we can visually compare the cumulative returns of 2 different companies."
   ]
  },
  {
   "cell_type": "code",
   "execution_count": null,
   "metadata": {},
   "outputs": [],
   "source": [
    "industries = grouped_companies.keys()\n",
    "dropdown = widgets.Dropdown(options = SP500_tickers, description='Industry:')\n",
    "\n",
    "# List of available companies (assuming cumulative_returns.columns contains company names)\n",
    "companies = cumulative_returns.columns.tolist()\n",
    "\n",
    "# Create multi-select dropdown widget for selecting multiple companies\n",
    "company_dropdown = widgets.SelectMultiple(options=companies, value=[companies[0]], description='Select Companies')\n",
    "\n",
    "# Create interactive widget using widgets.interact\n",
    "widgets.interact(dp.plot_cumulative_returns, cumulative_returns=widgets.fixed(cumulative_returns), selected_companies=company_dropdown)"
   ]
  },
  {
   "cell_type": "markdown",
   "metadata": {},
   "source": [
    "# Merge data sets"
   ]
  },
  {
   "cell_type": "markdown",
   "metadata": {},
   "source": [
    "Merge the data on cumulative returns and the data from the SP500 dataframe. "
   ]
  },
  {
   "cell_type": "code",
   "execution_count": null,
   "metadata": {},
   "outputs": [],
   "source": [
    "merged_data = pd.merge(hist_prices_clean.transpose(), SP500, on='Ticker')\n",
    "merged_data.head()"
   ]
  },
  {
   "cell_type": "markdown",
   "metadata": {},
   "source": [
    "# Analysis"
   ]
  },
  {
   "cell_type": "code",
   "execution_count": null,
   "metadata": {},
   "outputs": [],
   "source": [
    "grouped_returns = merged_data.groupby('Industry')\n",
    "# print(grouped_returns.head())\n",
    "# average_returns = grouped_returns['Return'].mean()\n",
    "\n",
    "print(grouped_returns.describe())\n"
   ]
  },
  {
   "cell_type": "markdown",
   "metadata": {},
   "source": [
    "To get a quick overview of the data, we show some **summary statistics** on a meaningful aggregation. "
   ]
  },
  {
   "cell_type": "markdown",
   "metadata": {},
   "source": [
    "Showing the summary statistics in a graph with chosen sectors"
   ]
  },
  {
   "cell_type": "code",
   "execution_count": null,
   "metadata": {},
   "outputs": [],
   "source": [
    "\n",
    "print(grouped_returns.describe())\n",
    "\n",
    "# Here we chose Energy and Information Technology\n",
    "summary_stats = grouped_returns.describe().iloc[[3, 7], :] \n",
    "\n",
    "\n",
    "plt.figure(figsize=(10, 6))\n",
    "summary_stats.plot(kind='bar', figsize=(10, 6))\n",
    "plt.title('Summary Statistics')\n",
    "plt.ylabel('Values')\n",
    "plt.xlabel('Statistics')\n",
    "plt.xticks(rotation=45)\n",
    "plt.legend(title='Sectors', fontsize='small', loc='upper right', bbox_to_anchor=(1.15, 1))\n",
    "plt.tight_layout()\n",
    "plt.show()\n"
   ]
  },
  {
   "cell_type": "markdown",
   "metadata": {},
   "source": [
    "We can also compare 2 different companies directly, using an interactive bar chart displaying the mean and standard deviations of the 2 companies. The performance of the companies can be compared using the mean returns, and the standard deviation indicates the volatility of the stocks."
   ]
  },
  {
   "cell_type": "code",
   "execution_count": null,
   "metadata": {},
   "outputs": [],
   "source": [
    "# Calculate returns\n",
    "monthly_returns, cumulative_returns = dp.calculate_returns(hist_prices_clean)\n",
    "\n",
    "# Grouped returns (example, assuming 'dataframe' has a MultiIndex with sectors and stocks)\n",
    "grouped_returns = monthly_returns.groupby(level=0, axis=1).mean()\n",
    "\n",
    "# Print summary statistics\n",
    "print(grouped_returns.describe())\n",
    "\n",
    "# Interactive widgets for selecting industries\n",
    "industry_options = grouped_returns.columns.tolist()\n",
    "industry1_widget = widgets.Dropdown(options=industry_options, description='Industry 1:')\n",
    "industry2_widget = widgets.Dropdown(options=industry_options, description='Industry 2:')\n",
    "\n",
    "# Function to update plot based on selected industries\n",
    "def update_plot(industry1, industry2):\n",
    "    dp.plot_summary_statistics(grouped_returns, industry1, industry2)\n",
    "\n",
    "# Display interactive widgets and plot\n",
    "interact(update_plot, industry1=industry1_widget, industry2=industry2_widget)"
   ]
  },
  {
   "cell_type": "markdown",
   "metadata": {},
   "source": [
    "# Conclusion"
   ]
  },
  {
   "cell_type": "markdown",
   "metadata": {},
   "source": [
    "By importing and cleaning data we get to analyze the chosen data in a specific way. It's possible for us to chose whatever sector needed and provide graphic and numerical statistics. "
   ]
  }
 ],
 "metadata": {
  "kernelspec": {
   "display_name": "base",
   "language": "python",
   "name": "python3"
  },
  "language_info": {
   "codemirror_mode": {
    "name": "ipython",
    "version": 3
   },
   "file_extension": ".py",
   "mimetype": "text/x-python",
   "name": "python",
   "nbconvert_exporter": "python",
   "pygments_lexer": "ipython3",
   "version": "3.11.8"
  }
 },
 "nbformat": 4,
 "nbformat_minor": 2
}
